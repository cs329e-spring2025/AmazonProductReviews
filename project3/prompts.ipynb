{
 "cells": [
  {
   "cell_type": "markdown",
   "metadata": {},
   "source": [
    "This is prompt one where we decided too"
   ]
  },
  {
   "cell_type": "code",
   "execution_count": null,
   "metadata": {},
   "outputs": [],
   "source": [
    "prompt = \"\"\"\n",
    "Analyze the given product image and extract relevant metadata attributes. Identify and categorize unique features, colors, and text present in the image.\n",
    "\n",
    "Extract the following attributes (if applicable):\n",
    "Product Identification: Extract product_id, ASIN, UPC (if visible).\n",
    "Brand & Naming: Identify brand_name, product_name, model_number.\n",
    "Categorization: Identify Main_Category, Subcategory_1, Subcategory_2, Subcategory_3.\n",
    "Pricing Details: If visible, extract list_price and selling_price.\n",
    "Technical Details: Extract dimensions, weight, product_specs, product_technical information.\n",
    "Text Extraction: If the image contains any text, extract the words accurately.\n",
    "Visual Features: Identify relevant object features such as materials, packaging details, logos, and labels.\n",
    "Color Information: Identify dominant colors present in the image.\n",
    "\n",
    "Return the output in JSON format.\n",
    "\n",
    "{\n",
    "\"business\": \"product_data_analysis\",\n",
    "\"category\": \"product_metadata\",\n",
    "\"product_attributes\": {\n",
    "\"product_id\": \"STRING\",\n",
    "\"brand_name\": \"STRING\",\n",
    "\"product_name\": \"STRING\",\n",
    "\"ASIN\": \"STRING\",\n",
    "\"UPC\": \"BOOL\",\n",
    "\"Main_Category\": \"STRING\",\n",
    "\"Subcategory_1\": \"STRING\",\n",
    "\"Subcategory_2\": \"STRING\",\n",
    "\"Subcategory_3\": \"STRING\",\n",
    "\"list_price\": \"FLOAT\",\n",
    "\"selling_price\": \"FLOAT\",\n",
    "\"quantity\": \"INT\",\n",
    "\"model_number\": \"STRING\",\n",
    "\"about_product\": \"STRING\",\n",
    "\"product_specs\": \"STRING\",\n",
    "\"product_technical\": \"STRING\",\n",
    "\"weight\": \"STRING\",\n",
    "\"dimensions\": \"STRING\",\n",
    "\"url\": \"STRING\"\n",
    "},\n",
    "\"image_analysis\": {\n",
    "\"detected_text\": [\"TEXT\"],\n",
    "\"dominant_colors\": [\"COLOR1\", \"COLOR2\"],\n",
    "\"object_features\": [\"FEATURE1\", \"FEATURE2\"]\n",
    "}\n",
    "}\n",
    "\n",
    "Do not include any extra details outside this format. Ensure extracted attributes are precise and relevant to the specific product image.\n",
    "\"\"\""
   ]
  },
  {
   "cell_type": "code",
   "execution_count": null,
   "metadata": {},
   "outputs": [],
   "source": []
  }
 ],
 "metadata": {
  "kernelspec": {
   "display_name": "Python 3",
   "language": "python",
   "name": "python3"
  },
  "language_info": {
   "name": "python",
   "version": "3.12.4"
  }
 },
 "nbformat": 4,
 "nbformat_minor": 2
}
